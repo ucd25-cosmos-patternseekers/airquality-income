{
 "cells": [
  {
   "cell_type": "code",
   "execution_count": 5,
   "id": "d347fc7e",
   "metadata": {},
   "outputs": [
    {
     "name": "stdout",
     "output_type": "stream",
     "text": [
      "       State      County  Median AQI  Income\n",
      "0    Alabama     Baldwin          43   60969\n",
      "1    Alabama        Clay          41   39082\n",
      "2    Alabama      DeKalb          48   41750\n",
      "3    Alabama      Elmore          38   51950\n",
      "4    Alabama      Etowah          51   45062\n",
      "..       ...         ...         ...     ...\n",
      "726  Wyoming    Sublette          47   70620\n",
      "727  Wyoming  Sweetwater          47   64115\n",
      "728  Wyoming       Teton          43  471751\n",
      "729  Wyoming       Uinta           6   49350\n",
      "730  Wyoming      Weston          42   54380\n",
      "\n",
      "[731 rows x 4 columns]\n"
     ]
    }
   ],
   "source": [
    "import pandas as pd\n",
    "\n",
    "# Read the first CSV\n",
    "aqi = pd.read_csv(\"aqi_cleaned.csv\", usecols=[\"State\", \"County\", \"Median AQI\"])\n",
    "\n",
    "\n",
    "# Read the second CSV\n",
    "income = pd.read_csv(\"incomes_cleaned.csv\", usecols=[\"State\", \"County\", \"Income\"])\n",
    "\n",
    "# Merge on State and County, keeping only matches\n",
    "merged = pd.merge(aqi, income, on=[\"State\", \"County\"], how=\"inner\")\n",
    "\n",
    "merged.to_csv(\"income-aqi.csv\")\n",
    "\n",
    "print(merged)"
   ]
  },
  {
   "cell_type": "code",
   "execution_count": 4,
   "id": "b62efa97",
   "metadata": {},
   "outputs": [
    {
     "data": {
      "text/plain": [
       "(731, 4)"
      ]
     },
     "execution_count": 4,
     "metadata": {},
     "output_type": "execute_result"
    }
   ],
   "source": [
    "merged.shape"
   ]
  }
 ],
 "metadata": {
  "kernelspec": {
   "display_name": "cosmos",
   "language": "python",
   "name": "python3"
  },
  "language_info": {
   "codemirror_mode": {
    "name": "ipython",
    "version": 3
   },
   "file_extension": ".py",
   "mimetype": "text/x-python",
   "name": "python",
   "nbconvert_exporter": "python",
   "pygments_lexer": "ipython3",
   "version": "3.12.11"
  }
 },
 "nbformat": 4,
 "nbformat_minor": 5
}
