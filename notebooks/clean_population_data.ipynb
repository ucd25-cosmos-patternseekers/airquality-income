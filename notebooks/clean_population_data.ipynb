{
 "cells": [
  {
   "cell_type": "code",
   "execution_count": 11,
   "id": "90fc7d73",
   "metadata": {},
   "outputs": [],
   "source": [
    "import pandas as pd\n",
    "from addfips import AddFIPS"
   ]
  },
  {
   "cell_type": "code",
   "execution_count": null,
   "id": "5497fd55",
   "metadata": {},
   "outputs": [],
   "source": [
    "\n",
    "\n",
    "# Load CSV\n",
    "df = pd.read_csv(\"../data/raw/County Population Totals 2020-2024.csv\")\n",
    "\n",
    "# Remove leading dot from 'Geographic Area'\n",
    "df['Geographic Area'] = df['Geographic Area'].str.lstrip('.')\n",
    "\n",
    "# Split into County and State\n",
    "df[['County', 'State']] = df['Geographic Area'].str.extract(r'^(.*?),\\s*(.*)$')\n",
    "\n",
    "# Clean 'County' to remove \" County\" if present (optional depending on input)\n",
    "df['County'] = df['County'].str.replace(\" County\", \"\", regex=False)\n",
    "\n",
    "# Clean '2023' population column: remove commas and convert to int\n",
    "df = df.dropna(subset=['2023'])  # Drop rows with missing population\n",
    "df['2023'] = df['2023'].str.replace(',', '').astype(int)\n",
    "\n",
    "# Initialize AddFIPS\n",
    "af = AddFIPS()\n",
    "\n",
    "# Drop rows where State or County is missing (to avoid AttributeError)\n",
    "df = df.dropna(subset=['State', 'County'])\n",
    "\n",
    "# Get FIPS codes\n",
    "df['FIPS'] = df.apply(lambda row: af.get_county_fips(state=row['State'], county=row['County']), axis=1)\n",
    "\n",
    "# Drop rows where FIPS couldn't be determined\n",
    "df = df.dropna(subset=['FIPS'])\n",
    "\n",
    "# Final output: just FIPS and 2023 population\n",
    "cleaned = df[['FIPS', '2023']]\n",
    "\n",
    "cleaned.columns = ['FIPS', 'Population']\n",
    "\n",
    "cleaned.head()\n"
   ]
  },
  {
   "cell_type": "code",
   "execution_count": 19,
   "id": "c7e54ee7",
   "metadata": {},
   "outputs": [],
   "source": [
    "cleaned.to_csv(\"../data/cleaned/population_cleaned.csv\", index=False)\n"
   ]
  }
 ],
 "metadata": {
  "kernelspec": {
   "display_name": "cosmos",
   "language": "python",
   "name": "python3"
  },
  "language_info": {
   "codemirror_mode": {
    "name": "ipython",
    "version": 3
   },
   "file_extension": ".py",
   "mimetype": "text/x-python",
   "name": "python",
   "nbconvert_exporter": "python",
   "pygments_lexer": "ipython3",
   "version": "3.12.11"
  }
 },
 "nbformat": 4,
 "nbformat_minor": 5
}
