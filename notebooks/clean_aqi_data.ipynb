{
 "cells": [
  {
   "cell_type": "code",
   "execution_count": 5,
   "id": "75818c2f",
   "metadata": {},
   "outputs": [],
   "source": [
    "import pandas as pd\n",
    "from addfips import AddFIPS\n",
    "\n",
    "# conda activate cosmos\n",
    "# conda install conda-forge::addfips"
   ]
  },
  {
   "cell_type": "code",
   "execution_count": 10,
   "id": "53eb8eb4",
   "metadata": {},
   "outputs": [
    {
     "name": "stderr",
     "output_type": "stream",
     "text": [
      "/var/folders/70/nplvvvvs69dcsdrp16h2_0l80000gn/T/ipykernel_86162/1264547100.py:9: SettingWithCopyWarning: \n",
      "A value is trying to be set on a copy of a slice from a DataFrame.\n",
      "Try using .loc[row_indexer,col_indexer] = value instead\n",
      "\n",
      "See the caveats in the documentation: https://pandas.pydata.org/pandas-docs/stable/user_guide/indexing.html#returning-a-view-versus-a-copy\n",
      "  filtered_aqi[\"FIPS\"] = filtered_aqi.apply(\n"
     ]
    },
    {
     "data": {
      "text/html": [
       "<div>\n",
       "<style scoped>\n",
       "    .dataframe tbody tr th:only-of-type {\n",
       "        vertical-align: middle;\n",
       "    }\n",
       "\n",
       "    .dataframe tbody tr th {\n",
       "        vertical-align: top;\n",
       "    }\n",
       "\n",
       "    .dataframe thead th {\n",
       "        text-align: right;\n",
       "    }\n",
       "</style>\n",
       "<table border=\"1\" class=\"dataframe\">\n",
       "  <thead>\n",
       "    <tr style=\"text-align: right;\">\n",
       "      <th></th>\n",
       "      <th>State</th>\n",
       "      <th>County</th>\n",
       "      <th>Median AQI</th>\n",
       "      <th>FIPS</th>\n",
       "    </tr>\n",
       "  </thead>\n",
       "  <tbody>\n",
       "    <tr>\n",
       "      <th>0</th>\n",
       "      <td>Alabama</td>\n",
       "      <td>Baldwin</td>\n",
       "      <td>43</td>\n",
       "      <td>01003</td>\n",
       "    </tr>\n",
       "    <tr>\n",
       "      <th>1</th>\n",
       "      <td>Alabama</td>\n",
       "      <td>Clay</td>\n",
       "      <td>41</td>\n",
       "      <td>01027</td>\n",
       "    </tr>\n",
       "    <tr>\n",
       "      <th>2</th>\n",
       "      <td>Alabama</td>\n",
       "      <td>DeKalb</td>\n",
       "      <td>48</td>\n",
       "      <td>01049</td>\n",
       "    </tr>\n",
       "    <tr>\n",
       "      <th>3</th>\n",
       "      <td>Alabama</td>\n",
       "      <td>Elmore</td>\n",
       "      <td>38</td>\n",
       "      <td>01051</td>\n",
       "    </tr>\n",
       "    <tr>\n",
       "      <th>4</th>\n",
       "      <td>Alabama</td>\n",
       "      <td>Etowah</td>\n",
       "      <td>51</td>\n",
       "      <td>01055</td>\n",
       "    </tr>\n",
       "  </tbody>\n",
       "</table>\n",
       "</div>"
      ],
      "text/plain": [
       "     State   County  Median AQI   FIPS\n",
       "0  Alabama  Baldwin          43  01003\n",
       "1  Alabama     Clay          41  01027\n",
       "2  Alabama   DeKalb          48  01049\n",
       "3  Alabama   Elmore          38  01051\n",
       "4  Alabama   Etowah          51  01055"
      ]
     },
     "execution_count": 10,
     "metadata": {},
     "output_type": "execute_result"
    }
   ],
   "source": [
    "# Read the CSV file\n",
    "aqi = pd.read_csv(\"../data/raw/annual_aqi_by_county_2023.csv\")\n",
    "\n",
    "filtered_aqi = aqi[[\"State\", \"County\", \"Median AQI\"]]\n",
    "\n",
    "af = AddFIPS()\n",
    "\n",
    "# Add FIPS codes\n",
    "filtered_aqi[\"FIPS\"] = filtered_aqi.apply(\n",
    "    lambda row: af.get_county_fips(state=row[\"State\"], county=row[\"County\"]),\n",
    "    axis=1\n",
    ")\n",
    "\n",
    "filtered_aqi.head()\n"
   ]
  },
  {
   "cell_type": "code",
   "execution_count": 11,
   "id": "6892e5d9",
   "metadata": {},
   "outputs": [],
   "source": [
    "filtered_aqi.to_csv(\"../data/cleaned/aqi_cleaned.csv\")"
   ]
  }
 ],
 "metadata": {
  "kernelspec": {
   "display_name": "cosmos",
   "language": "python",
   "name": "python3"
  },
  "language_info": {
   "codemirror_mode": {
    "name": "ipython",
    "version": 3
   },
   "file_extension": ".py",
   "mimetype": "text/x-python",
   "name": "python",
   "nbconvert_exporter": "python",
   "pygments_lexer": "ipython3",
   "version": "3.12.11"
  }
 },
 "nbformat": 4,
 "nbformat_minor": 5
}
