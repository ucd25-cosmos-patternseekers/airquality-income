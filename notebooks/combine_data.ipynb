{
 "cells": [
  {
   "cell_type": "code",
   "execution_count": null,
   "id": "d347fc7e",
   "metadata": {},
   "outputs": [
    {
     "data": {
      "text/html": [
       "<div>\n",
       "<style scoped>\n",
       "    .dataframe tbody tr th:only-of-type {\n",
       "        vertical-align: middle;\n",
       "    }\n",
       "\n",
       "    .dataframe tbody tr th {\n",
       "        vertical-align: top;\n",
       "    }\n",
       "\n",
       "    .dataframe thead th {\n",
       "        text-align: right;\n",
       "    }\n",
       "</style>\n",
       "<table border=\"1\" class=\"dataframe\">\n",
       "  <thead>\n",
       "    <tr style=\"text-align: right;\">\n",
       "      <th></th>\n",
       "      <th>State</th>\n",
       "      <th>County</th>\n",
       "      <th>Median AQI</th>\n",
       "      <th>FIPS</th>\n",
       "      <th>Income</th>\n",
       "    </tr>\n",
       "  </thead>\n",
       "  <tbody>\n",
       "    <tr>\n",
       "      <th>0</th>\n",
       "      <td>Alabama</td>\n",
       "      <td>Baldwin</td>\n",
       "      <td>43</td>\n",
       "      <td>1003.0</td>\n",
       "      <td>60969</td>\n",
       "    </tr>\n",
       "    <tr>\n",
       "      <th>1</th>\n",
       "      <td>Alabama</td>\n",
       "      <td>Clay</td>\n",
       "      <td>41</td>\n",
       "      <td>1027.0</td>\n",
       "      <td>39082</td>\n",
       "    </tr>\n",
       "    <tr>\n",
       "      <th>2</th>\n",
       "      <td>Alabama</td>\n",
       "      <td>DeKalb</td>\n",
       "      <td>48</td>\n",
       "      <td>1049.0</td>\n",
       "      <td>41750</td>\n",
       "    </tr>\n",
       "    <tr>\n",
       "      <th>3</th>\n",
       "      <td>Alabama</td>\n",
       "      <td>Elmore</td>\n",
       "      <td>38</td>\n",
       "      <td>1051.0</td>\n",
       "      <td>51950</td>\n",
       "    </tr>\n",
       "    <tr>\n",
       "      <th>4</th>\n",
       "      <td>Alabama</td>\n",
       "      <td>Etowah</td>\n",
       "      <td>51</td>\n",
       "      <td>1055.0</td>\n",
       "      <td>45062</td>\n",
       "    </tr>\n",
       "  </tbody>\n",
       "</table>\n",
       "</div>"
      ],
      "text/plain": [
       "     State   County  Median AQI    FIPS  Income\n",
       "0  Alabama  Baldwin          43  1003.0   60969\n",
       "1  Alabama     Clay          41  1027.0   39082\n",
       "2  Alabama   DeKalb          48  1049.0   41750\n",
       "3  Alabama   Elmore          38  1051.0   51950\n",
       "4  Alabama   Etowah          51  1055.0   45062"
      ]
     },
     "execution_count": 7,
     "metadata": {},
     "output_type": "execute_result"
    }
   ],
   "source": [
    "import pandas as pd\n",
    "\n",
    "# Read only necessary columns\n",
    "aqi = pd.read_csv(\"../data/cleaned/aqi_cleaned.csv\", usecols=[\"State\", \"County\", \"Median AQI\", \"FIPS\"])\n",
    "income = pd.read_csv(\"../data/cleaned/incomes_cleaned.csv\", usecols=[\"Income\", \"FIPS\"])\n",
    "\n",
    "# Drop rows where FIPS is missing in either dataset\n",
    "aqi = aqi.dropna(subset=['FIPS'])\n",
    "income = income.dropna(subset=['FIPS'])\n",
    "\n",
    "# Merge on FIPS only, keeping only matching rows\n",
    "merged = pd.merge(aqi, income, on=\"FIPS\", how=\"inner\")\n",
    "\n",
    "# Preview result\n",
    "merged.head()\n"
   ]
  },
  {
   "cell_type": "code",
   "execution_count": 8,
   "id": "b62efa97",
   "metadata": {},
   "outputs": [],
   "source": [
    "merged.to_csv(\"../data/cleaned/full_dataset.csv\")"
   ]
  }
 ],
 "metadata": {
  "kernelspec": {
   "display_name": "cosmos",
   "language": "python",
   "name": "python3"
  },
  "language_info": {
   "codemirror_mode": {
    "name": "ipython",
    "version": 3
   },
   "file_extension": ".py",
   "mimetype": "text/x-python",
   "name": "python",
   "nbconvert_exporter": "python",
   "pygments_lexer": "ipython3",
   "version": "3.12.11"
  }
 },
 "nbformat": 4,
 "nbformat_minor": 5
}
